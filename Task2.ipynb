{
 "cells": [
  {
   "cell_type": "markdown",
   "id": "8e92f0a2",
   "metadata": {},
   "source": [
    "# LetsGrowMore (LGMVIP)- May 2022\n",
    "### Data Science intern - Satyam Jaiprakash Mishra\n",
    "### BEGINNER LEVEL TASK\n",
    "### Task 2 - Stock Market Prediction and Forecasting using stacked LSTM"
   ]
  },
  {
   "cell_type": "code",
   "execution_count": 1,
   "id": "9667a51b",
   "metadata": {},
   "outputs": [],
   "source": [
    "from sklearn.preprocessing import MinMaxScaler\n",
    "from tensorflow.keras.models import Sequential\n",
    "from tensorflow.keras.layers import Dense\n",
    "from tensorflow.keras.layers import LSTM\n",
    "from sklearn.metrics import mean_squared_error\n",
    "\n",
    "import matplotlib.pyplot as plt\n",
    "import seaborn as sns\n",
    "import warnings \n",
    "import pandas as pd\n",
    "import numpy as np\n",
    "import math \n",
    "warnings.filterwarnings('ignore')"
   ]
  },
  {
   "cell_type": "code",
   "execution_count": 2,
   "id": "abd27a85",
   "metadata": {},
   "outputs": [
    {
     "data": {
      "text/html": [
       "<div>\n",
       "<style scoped>\n",
       "    .dataframe tbody tr th:only-of-type {\n",
       "        vertical-align: middle;\n",
       "    }\n",
       "\n",
       "    .dataframe tbody tr th {\n",
       "        vertical-align: top;\n",
       "    }\n",
       "\n",
       "    .dataframe thead th {\n",
       "        text-align: right;\n",
       "    }\n",
       "</style>\n",
       "<table border=\"1\" class=\"dataframe\">\n",
       "  <thead>\n",
       "    <tr style=\"text-align: right;\">\n",
       "      <th></th>\n",
       "      <th>Date</th>\n",
       "      <th>Open</th>\n",
       "      <th>High</th>\n",
       "      <th>Low</th>\n",
       "      <th>Last</th>\n",
       "      <th>Close</th>\n",
       "      <th>Total Trade Quantity</th>\n",
       "      <th>Turnover (Lacs)</th>\n",
       "    </tr>\n",
       "  </thead>\n",
       "  <tbody>\n",
       "    <tr>\n",
       "      <th>0</th>\n",
       "      <td>2018-09-28</td>\n",
       "      <td>234.05</td>\n",
       "      <td>235.95</td>\n",
       "      <td>230.20</td>\n",
       "      <td>233.50</td>\n",
       "      <td>233.75</td>\n",
       "      <td>3069914</td>\n",
       "      <td>7162.35</td>\n",
       "    </tr>\n",
       "    <tr>\n",
       "      <th>1</th>\n",
       "      <td>2018-09-27</td>\n",
       "      <td>234.55</td>\n",
       "      <td>236.80</td>\n",
       "      <td>231.10</td>\n",
       "      <td>233.80</td>\n",
       "      <td>233.25</td>\n",
       "      <td>5082859</td>\n",
       "      <td>11859.95</td>\n",
       "    </tr>\n",
       "    <tr>\n",
       "      <th>2</th>\n",
       "      <td>2018-09-26</td>\n",
       "      <td>240.00</td>\n",
       "      <td>240.00</td>\n",
       "      <td>232.50</td>\n",
       "      <td>235.00</td>\n",
       "      <td>234.25</td>\n",
       "      <td>2240909</td>\n",
       "      <td>5248.60</td>\n",
       "    </tr>\n",
       "    <tr>\n",
       "      <th>3</th>\n",
       "      <td>2018-09-25</td>\n",
       "      <td>233.30</td>\n",
       "      <td>236.75</td>\n",
       "      <td>232.00</td>\n",
       "      <td>236.25</td>\n",
       "      <td>236.10</td>\n",
       "      <td>2349368</td>\n",
       "      <td>5503.90</td>\n",
       "    </tr>\n",
       "    <tr>\n",
       "      <th>4</th>\n",
       "      <td>2018-09-24</td>\n",
       "      <td>233.55</td>\n",
       "      <td>239.20</td>\n",
       "      <td>230.75</td>\n",
       "      <td>234.00</td>\n",
       "      <td>233.30</td>\n",
       "      <td>3423509</td>\n",
       "      <td>7999.55</td>\n",
       "    </tr>\n",
       "  </tbody>\n",
       "</table>\n",
       "</div>"
      ],
      "text/plain": [
       "         Date    Open    High     Low    Last   Close  Total Trade Quantity  \\\n",
       "0  2018-09-28  234.05  235.95  230.20  233.50  233.75               3069914   \n",
       "1  2018-09-27  234.55  236.80  231.10  233.80  233.25               5082859   \n",
       "2  2018-09-26  240.00  240.00  232.50  235.00  234.25               2240909   \n",
       "3  2018-09-25  233.30  236.75  232.00  236.25  236.10               2349368   \n",
       "4  2018-09-24  233.55  239.20  230.75  234.00  233.30               3423509   \n",
       "\n",
       "   Turnover (Lacs)  \n",
       "0          7162.35  \n",
       "1         11859.95  \n",
       "2          5248.60  \n",
       "3          5503.90  \n",
       "4          7999.55  "
      ]
     },
     "execution_count": 2,
     "metadata": {},
     "output_type": "execute_result"
    }
   ],
   "source": [
    "d = pd.read_csv('https://raw.githubusercontent.com/mwitiderrick/stockprice/master/NSE-TATAGLOBAL.csv')\n",
    "d.head()"
   ]
  },
  {
   "cell_type": "code",
   "execution_count": 3,
   "id": "c766e622",
   "metadata": {},
   "outputs": [
    {
     "name": "stdout",
     "output_type": "stream",
     "text": [
      "<class 'pandas.core.frame.DataFrame'>\n",
      "RangeIndex: 2035 entries, 0 to 2034\n",
      "Data columns (total 8 columns):\n",
      " #   Column                Non-Null Count  Dtype  \n",
      "---  ------                --------------  -----  \n",
      " 0   Date                  2035 non-null   object \n",
      " 1   Open                  2035 non-null   float64\n",
      " 2   High                  2035 non-null   float64\n",
      " 3   Low                   2035 non-null   float64\n",
      " 4   Last                  2035 non-null   float64\n",
      " 5   Close                 2035 non-null   float64\n",
      " 6   Total Trade Quantity  2035 non-null   int64  \n",
      " 7   Turnover (Lacs)       2035 non-null   float64\n",
      "dtypes: float64(6), int64(1), object(1)\n",
      "memory usage: 127.3+ KB\n"
     ]
    }
   ],
   "source": [
    "d.info()"
   ]
  },
  {
   "cell_type": "code",
   "execution_count": 4,
   "id": "80aaa558",
   "metadata": {},
   "outputs": [
    {
     "data": {
      "text/plain": [
       "Date                    datetime64[ns]\n",
       "Open                           float64\n",
       "High                           float64\n",
       "Low                            float64\n",
       "Last                           float64\n",
       "Close                          float64\n",
       "Total Trade Quantity             int64\n",
       "Turnover (Lacs)                float64\n",
       "dtype: object"
      ]
     },
     "execution_count": 4,
     "metadata": {},
     "output_type": "execute_result"
    }
   ],
   "source": [
    "d['Date'] = pd.to_datetime(d['Date'])\n",
    "d.dtypes"
   ]
  },
  {
   "cell_type": "code",
   "execution_count": 5,
   "id": "a54538ee",
   "metadata": {},
   "outputs": [
    {
     "data": {
      "text/html": [
       "<div>\n",
       "<style scoped>\n",
       "    .dataframe tbody tr th:only-of-type {\n",
       "        vertical-align: middle;\n",
       "    }\n",
       "\n",
       "    .dataframe tbody tr th {\n",
       "        vertical-align: top;\n",
       "    }\n",
       "\n",
       "    .dataframe thead th {\n",
       "        text-align: right;\n",
       "    }\n",
       "</style>\n",
       "<table border=\"1\" class=\"dataframe\">\n",
       "  <thead>\n",
       "    <tr style=\"text-align: right;\">\n",
       "      <th></th>\n",
       "      <th>Date</th>\n",
       "      <th>Open</th>\n",
       "      <th>High</th>\n",
       "      <th>Low</th>\n",
       "      <th>Last</th>\n",
       "      <th>Close</th>\n",
       "      <th>Total Trade Quantity</th>\n",
       "      <th>Turnover (Lacs)</th>\n",
       "    </tr>\n",
       "  </thead>\n",
       "  <tbody>\n",
       "    <tr>\n",
       "      <th>2034</th>\n",
       "      <td>2010-07-21</td>\n",
       "      <td>122.1</td>\n",
       "      <td>123.00</td>\n",
       "      <td>121.05</td>\n",
       "      <td>121.10</td>\n",
       "      <td>121.55</td>\n",
       "      <td>658666</td>\n",
       "      <td>803.56</td>\n",
       "    </tr>\n",
       "    <tr>\n",
       "      <th>2033</th>\n",
       "      <td>2010-07-22</td>\n",
       "      <td>120.3</td>\n",
       "      <td>122.00</td>\n",
       "      <td>120.25</td>\n",
       "      <td>120.75</td>\n",
       "      <td>120.90</td>\n",
       "      <td>293312</td>\n",
       "      <td>355.17</td>\n",
       "    </tr>\n",
       "    <tr>\n",
       "      <th>2032</th>\n",
       "      <td>2010-07-23</td>\n",
       "      <td>121.8</td>\n",
       "      <td>121.95</td>\n",
       "      <td>120.25</td>\n",
       "      <td>120.35</td>\n",
       "      <td>120.65</td>\n",
       "      <td>281312</td>\n",
       "      <td>340.31</td>\n",
       "    </tr>\n",
       "    <tr>\n",
       "      <th>2031</th>\n",
       "      <td>2010-07-26</td>\n",
       "      <td>120.1</td>\n",
       "      <td>121.00</td>\n",
       "      <td>117.10</td>\n",
       "      <td>117.10</td>\n",
       "      <td>117.60</td>\n",
       "      <td>658440</td>\n",
       "      <td>780.01</td>\n",
       "    </tr>\n",
       "    <tr>\n",
       "      <th>2030</th>\n",
       "      <td>2010-07-27</td>\n",
       "      <td>117.6</td>\n",
       "      <td>119.50</td>\n",
       "      <td>112.00</td>\n",
       "      <td>118.80</td>\n",
       "      <td>118.65</td>\n",
       "      <td>586100</td>\n",
       "      <td>694.98</td>\n",
       "    </tr>\n",
       "  </tbody>\n",
       "</table>\n",
       "</div>"
      ],
      "text/plain": [
       "           Date   Open    High     Low    Last   Close  Total Trade Quantity  \\\n",
       "2034 2010-07-21  122.1  123.00  121.05  121.10  121.55                658666   \n",
       "2033 2010-07-22  120.3  122.00  120.25  120.75  120.90                293312   \n",
       "2032 2010-07-23  121.8  121.95  120.25  120.35  120.65                281312   \n",
       "2031 2010-07-26  120.1  121.00  117.10  117.10  117.60                658440   \n",
       "2030 2010-07-27  117.6  119.50  112.00  118.80  118.65                586100   \n",
       "\n",
       "      Turnover (Lacs)  \n",
       "2034           803.56  \n",
       "2033           355.17  \n",
       "2032           340.31  \n",
       "2031           780.01  \n",
       "2030           694.98  "
      ]
     },
     "execution_count": 5,
     "metadata": {},
     "output_type": "execute_result"
    }
   ],
   "source": [
    "d = d.sort_values('Date')\n",
    "d.head()"
   ]
  },
  {
   "cell_type": "code",
   "execution_count": 6,
   "id": "76423885",
   "metadata": {},
   "outputs": [
    {
     "data": {
      "text/plain": [
       "Text(0, 0.5, 'Close')"
      ]
     },
     "execution_count": 6,
     "metadata": {},
     "output_type": "execute_result"
    },
    {
     "data": {
      "image/png": "[encoded data removed]",
      "text/plain": [
       "<Figure size 648x432 with 1 Axes>"
      ]
     },
     "metadata": {
      "needs_background": "light"
     },
     "output_type": "display_data"
    }
   ],
   "source": [
    "plt.figure(figsize = (9,6))\n",
    "plt.title('Tata Stocks Closing Price')\n",
    "plt.plot(d['Close'],'g')\n",
    "plt.xlabel('Date',fontsize=15)\n",
    "plt.ylabel('Close',fontsize=15)"
   ]
  },
  {
   "cell_type": "code",
   "execution_count": 7,
   "id": "f3ec03f9",
   "metadata": {},
   "outputs": [],
   "source": [
    "data_close = d.reset_index()['Close']\n",
    "data_close.head()\n",
    "scaler = MinMaxScaler(feature_range = (0, 1))\n",
    "data_close = scaler.fit_transform(np.array(data_close).reshape(-1, 1))"
   ]
  },
  {
   "cell_type": "code",
   "execution_count": 8,
   "id": "812f06a0",
   "metadata": {},
   "outputs": [],
   "source": [
    "train_size = int(len(data_close)*0.70)\n",
    "test_size = len(data_close) - train_size\n",
    "train, test = data_close[0 : train_size, :], data_close[train_size : len(data_close), :1]"
   ]
  },
  {
   "cell_type": "code",
   "execution_count": 9,
   "id": "0426d652",
   "metadata": {},
   "outputs": [],
   "source": [
    "def create_matrix(ds, time_step=1):\n",
    "    dataX, dataY = [], []\n",
    "    for i in range(len(ds)-time_step-1):\n",
    "        a = ds[i:(i+time_step),0]\n",
    "        dataX.append(a)\n",
    "        dataY.append(ds[i+time_step,0])\n",
    "    return np.array(dataX), np.array(dataY)"
   ]
  },
  {
   "cell_type": "code",
   "execution_count": 10,
   "id": "b3f91cb2",
   "metadata": {},
   "outputs": [
    {
     "name": "stdout",
     "output_type": "stream",
     "text": [
      "(1323, 100) (1323,)\n",
      "(510, 100) (510,)\n"
     ]
    }
   ],
   "source": [
    "step=100 \n",
    "X_train, y_train = create_matrix(train, step)\n",
    "X_test, y_test = create_matrix(test, step)\n",
    "print(X_train.shape, y_train.shape)\n",
    "print(X_test.shape, y_test.shape)"
   ]
  },
  {
   "cell_type": "code",
   "execution_count": 11,
   "id": "550089c8",
   "metadata": {},
   "outputs": [],
   "source": [
    "X_train = X_train.reshape(X_train.shape[0], X_train.shape[1], 1)\n",
    "X_test = X_test.reshape(X_test.shape[0], X_test.shape[1], 1)"
   ]
  },
  {
   "cell_type": "code",
   "execution_count": 12,
   "id": "74855c52",
   "metadata": {},
   "outputs": [],
   "source": [
    "\n",
    "model = Sequential()\n",
    "model.add(LSTM(50, return_sequences=True,input_shape=(100,1)))\n",
    "model.add(LSTM(50,return_sequences=True))\n",
    "model.add(LSTM(50))\n",
    "model.add(Dense(1))\n",
    "model.compile(loss='mean_squared_error',optimizer='adam')"
   ]
  },
  {
   "cell_type": "code",
   "execution_count": 13,
   "id": "0f8cef82",
   "metadata": {},
   "outputs": [
    {
     "name": "stdout",
     "output_type": "stream",
     "text": [
      "Model: \"sequential\"\n",
      "_________________________________________________________________\n",
      " Layer (type)                Output Shape              Param #   \n",
      "=================================================================\n",
      " lstm (LSTM)                 (None, 100, 50)           10400     \n",
      "                                                                 \n",
      " lstm_1 (LSTM)               (None, 100, 50)           20200     \n",
      "                                                                 \n",
      " lstm_2 (LSTM)               (None, 50)                20200     \n",
      "                                                                 \n",
      " dense (Dense)               (None, 1)                 51        \n",
      "                                                                 \n",
      "=================================================================\n",
      "Total params: 50,851\n",
      "Trainable params: 50,851\n",
      "Non-trainable params: 0\n",
      "_________________________________________________________________\n"
     ]
    }
   ],
   "source": [
    "model.summary()"
   ]
  },
  {
   "cell_type": "code",
   "execution_count": 14,
   "id": "a5d13d42",
   "metadata": {},
   "outputs": [
    {
     "name": "stdout",
     "output_type": "stream",
     "text": [
      "Epoch 1/77\n",
      "19/19 [==============================] - 17s 340ms/step - loss: 0.0089 - val_loss: 0.0021\n",
      "Epoch 2/77\n",
      "19/19 [==============================] - 4s 213ms/step - loss: 0.0018 - val_loss: 0.0016\n",
      "Epoch 3/77\n",
      "19/19 [==============================] - 4s 194ms/step - loss: 9.9406e-04 - val_loss: 0.0013\n",
      "Epoch 4/77\n",
      "19/19 [==============================] - 3s 182ms/step - loss: 8.9970e-04 - val_loss: 0.0012\n",
      "Epoch 5/77\n",
      "19/19 [==============================] - 3s 176ms/step - loss: 8.6443e-04 - val_loss: 0.0013\n",
      "Epoch 6/77\n",
      "19/19 [==============================] - 3s 175ms/step - loss: 8.3931e-04 - val_loss: 0.0011\n",
      "Epoch 7/77\n",
      "19/19 [==============================] - 5s 249ms/step - loss: 8.4290e-04 - val_loss: 0.0012\n",
      "Epoch 8/77\n",
      "19/19 [==============================] - 3s 176ms/step - loss: 7.8583e-04 - val_loss: 0.0010\n",
      "Epoch 9/77\n",
      "19/19 [==============================] - 3s 177ms/step - loss: 7.7965e-04 - val_loss: 0.0011\n",
      "Epoch 10/77\n",
      "19/19 [==============================] - 4s 197ms/step - loss: 7.7704e-04 - val_loss: 9.2149e-04\n",
      "Epoch 11/77\n",
      "19/19 [==============================] - 3s 178ms/step - loss: 7.5663e-04 - val_loss: 8.6319e-04\n",
      "Epoch 12/77\n",
      "19/19 [==============================] - 3s 177ms/step - loss: 6.9877e-04 - val_loss: 8.4461e-04\n",
      "Epoch 13/77\n",
      "19/19 [==============================] - 3s 175ms/step - loss: 6.5498e-04 - val_loss: 7.7342e-04\n",
      "Epoch 14/77\n",
      "19/19 [==============================] - 3s 175ms/step - loss: 6.2750e-04 - val_loss: 7.8582e-04\n",
      "Epoch 15/77\n",
      "19/19 [==============================] - 4s 198ms/step - loss: 6.0049e-04 - val_loss: 6.7465e-04\n",
      "Epoch 16/77\n",
      "19/19 [==============================] - 4s 186ms/step - loss: 5.7388e-04 - val_loss: 6.4093e-04\n",
      "Epoch 17/77\n",
      "19/19 [==============================] - 4s 231ms/step - loss: 5.6652e-04 - val_loss: 8.0413e-04\n",
      "Epoch 18/77\n",
      "19/19 [==============================] - 4s 208ms/step - loss: 5.5109e-04 - val_loss: 5.8510e-04\n",
      "Epoch 19/77\n",
      "19/19 [==============================] - 4s 187ms/step - loss: 5.4827e-04 - val_loss: 5.7036e-04\n",
      "Epoch 20/77\n",
      "19/19 [==============================] - 4s 185ms/step - loss: 5.1373e-04 - val_loss: 5.3915e-04\n",
      "Epoch 21/77\n",
      "19/19 [==============================] - 4s 199ms/step - loss: 4.9245e-04 - val_loss: 5.5401e-04\n",
      "Epoch 22/77\n",
      "19/19 [==============================] - 4s 188ms/step - loss: 4.7039e-04 - val_loss: 4.9620e-04\n",
      "Epoch 23/77\n",
      "19/19 [==============================] - 4s 190ms/step - loss: 4.7497e-04 - val_loss: 5.6832e-04\n",
      "Epoch 24/77\n",
      "19/19 [==============================] - 3s 184ms/step - loss: 4.5465e-04 - val_loss: 4.8219e-04\n",
      "Epoch 25/77\n",
      "19/19 [==============================] - 4s 189ms/step - loss: 4.3487e-04 - val_loss: 4.3427e-04\n",
      "Epoch 26/77\n",
      "19/19 [==============================] - 4s 185ms/step - loss: 4.6355e-04 - val_loss: 4.4663e-04\n",
      "Epoch 27/77\n",
      "19/19 [==============================] - 3s 176ms/step - loss: 4.5140e-04 - val_loss: 4.1482e-04\n",
      "Epoch 28/77\n",
      "19/19 [==============================] - 3s 177ms/step - loss: 4.4814e-04 - val_loss: 4.1473e-04\n",
      "Epoch 29/77\n",
      "19/19 [==============================] - 3s 180ms/step - loss: 3.7529e-04 - val_loss: 3.7338e-04\n",
      "Epoch 30/77\n",
      "19/19 [==============================] - 4s 192ms/step - loss: 3.8596e-04 - val_loss: 3.6395e-04\n",
      "Epoch 31/77\n",
      "19/19 [==============================] - 4s 190ms/step - loss: 3.7163e-04 - val_loss: 3.5313e-04\n",
      "Epoch 32/77\n",
      "19/19 [==============================] - 3s 182ms/step - loss: 3.5037e-04 - val_loss: 3.2319e-04\n",
      "Epoch 33/77\n",
      "19/19 [==============================] - 3s 178ms/step - loss: 3.5115e-04 - val_loss: 3.7268e-04\n",
      "Epoch 34/77\n",
      "19/19 [==============================] - 4s 183ms/step - loss: 3.3547e-04 - val_loss: 3.0764e-04\n",
      "Epoch 35/77\n",
      "19/19 [==============================] - 3s 175ms/step - loss: 3.1303e-04 - val_loss: 2.9800e-04\n",
      "Epoch 36/77\n",
      "19/19 [==============================] - 3s 177ms/step - loss: 3.1013e-04 - val_loss: 2.7954e-04\n",
      "Epoch 37/77\n",
      "19/19 [==============================] - 3s 174ms/step - loss: 2.9853e-04 - val_loss: 3.6604e-04\n",
      "Epoch 38/77\n",
      "19/19 [==============================] - 3s 176ms/step - loss: 3.4140e-04 - val_loss: 3.9435e-04\n",
      "Epoch 39/77\n",
      "19/19 [==============================] - 3s 179ms/step - loss: 3.0586e-04 - val_loss: 2.5494e-04\n",
      "Epoch 40/77\n",
      "19/19 [==============================] - 4s 190ms/step - loss: 2.8982e-04 - val_loss: 2.5924e-04\n",
      "Epoch 41/77\n",
      "19/19 [==============================] - 3s 175ms/step - loss: 2.7248e-04 - val_loss: 2.3458e-04\n",
      "Epoch 42/77\n",
      "19/19 [==============================] - 3s 176ms/step - loss: 2.5462e-04 - val_loss: 2.3269e-04\n",
      "Epoch 43/77\n",
      "19/19 [==============================] - 3s 176ms/step - loss: 2.5415e-04 - val_loss: 2.3169e-04\n",
      "Epoch 44/77\n",
      "19/19 [==============================] - 4s 185ms/step - loss: 2.7045e-04 - val_loss: 2.5502e-04\n",
      "Epoch 45/77\n",
      "19/19 [==============================] - 3s 176ms/step - loss: 2.4854e-04 - val_loss: 2.1908e-04\n",
      "Epoch 46/77\n",
      "19/19 [==============================] - 3s 174ms/step - loss: 2.4290e-04 - val_loss: 2.0699e-04\n",
      "Epoch 47/77\n",
      "19/19 [==============================] - 3s 176ms/step - loss: 2.3441e-04 - val_loss: 2.1299e-04\n",
      "Epoch 48/77\n",
      "19/19 [==============================] - 3s 176ms/step - loss: 2.3550e-04 - val_loss: 2.2109e-04\n",
      "Epoch 49/77\n",
      "19/19 [==============================] - 3s 173ms/step - loss: 2.2989e-04 - val_loss: 1.8867e-04\n",
      "Epoch 50/77\n",
      "19/19 [==============================] - 4s 184ms/step - loss: 2.3124e-04 - val_loss: 1.8343e-04\n",
      "Epoch 51/77\n",
      "19/19 [==============================] - 3s 178ms/step - loss: 2.1038e-04 - val_loss: 1.8550e-04\n",
      "Epoch 52/77\n",
      "19/19 [==============================] - 3s 178ms/step - loss: 2.0774e-04 - val_loss: 1.8806e-04\n",
      "Epoch 53/77\n",
      "19/19 [==============================] - 3s 180ms/step - loss: 2.0272e-04 - val_loss: 1.7369e-04\n",
      "Epoch 54/77\n",
      "19/19 [==============================] - 3s 174ms/step - loss: 2.0206e-04 - val_loss: 1.6776e-04\n",
      "Epoch 55/77\n",
      "19/19 [==============================] - 3s 175ms/step - loss: 1.9646e-04 - val_loss: 2.0491e-04\n",
      "Epoch 56/77\n",
      "19/19 [==============================] - 3s 176ms/step - loss: 2.1142e-04 - val_loss: 1.8868e-04\n",
      "Epoch 57/77\n",
      "19/19 [==============================] - 4s 189ms/step - loss: 1.9952e-04 - val_loss: 1.5653e-04\n",
      "Epoch 58/77\n",
      "19/19 [==============================] - 4s 191ms/step - loss: 2.0054e-04 - val_loss: 1.5784e-04\n",
      "Epoch 59/77\n",
      "19/19 [==============================] - 3s 177ms/step - loss: 1.7809e-04 - val_loss: 1.5016e-04\n",
      "Epoch 60/77\n",
      "19/19 [==============================] - 3s 174ms/step - loss: 1.8841e-04 - val_loss: 1.4948e-04\n",
      "Epoch 61/77\n",
      "19/19 [==============================] - 3s 176ms/step - loss: 1.9648e-04 - val_loss: 2.0153e-04\n",
      "Epoch 62/77\n",
      "19/19 [==============================] - 3s 172ms/step - loss: 1.8847e-04 - val_loss: 1.5157e-04\n",
      "Epoch 63/77\n",
      "19/19 [==============================] - 3s 173ms/step - loss: 1.8973e-04 - val_loss: 1.5177e-04\n",
      "Epoch 64/77\n",
      "19/19 [==============================] - 3s 175ms/step - loss: 1.9439e-04 - val_loss: 1.8438e-04\n",
      "Epoch 65/77\n",
      "19/19 [==============================] - 3s 174ms/step - loss: 1.7848e-04 - val_loss: 1.4198e-04\n",
      "Epoch 66/77\n",
      "19/19 [==============================] - 3s 175ms/step - loss: 1.7678e-04 - val_loss: 1.8629e-04\n",
      "Epoch 67/77\n",
      "19/19 [==============================] - 4s 200ms/step - loss: 2.1816e-04 - val_loss: 1.4475e-04\n",
      "Epoch 68/77\n",
      "19/19 [==============================] - 4s 196ms/step - loss: 1.9942e-04 - val_loss: 1.5383e-04\n",
      "Epoch 69/77\n",
      "19/19 [==============================] - 3s 184ms/step - loss: 1.6979e-04 - val_loss: 1.3632e-04\n",
      "Epoch 70/77\n",
      "19/19 [==============================] - 3s 177ms/step - loss: 1.9780e-04 - val_loss: 1.4406e-04\n",
      "Epoch 71/77\n",
      "19/19 [==============================] - 3s 176ms/step - loss: 2.1611e-04 - val_loss: 1.4187e-04\n",
      "Epoch 72/77\n",
      "19/19 [==============================] - 3s 176ms/step - loss: 1.6068e-04 - val_loss: 1.4747e-04\n",
      "Epoch 73/77\n",
      "19/19 [==============================] - 3s 176ms/step - loss: 1.5567e-04 - val_loss: 1.3452e-04\n",
      "Epoch 74/77\n",
      "19/19 [==============================] - 3s 174ms/step - loss: 1.5711e-04 - val_loss: 1.2901e-04\n",
      "Epoch 75/77\n",
      "19/19 [==============================] - 3s 174ms/step - loss: 1.5098e-04 - val_loss: 1.3737e-04\n",
      "Epoch 76/77\n"
     ]
    },
    {
     "name": "stdout",
     "output_type": "stream",
     "text": [
      "19/19 [==============================] - 3s 174ms/step - loss: 1.4865e-04 - val_loss: 1.3178e-04\n",
      "Epoch 77/77\n",
      "19/19 [==============================] - 4s 227ms/step - loss: 1.4382e-04 - val_loss: 1.2579e-04\n"
     ]
    }
   ],
   "source": [
    "history = model.fit(X_train, y_train, validation_split=0.1, epochs=77, batch_size=64, verbose=1, shuffle=True).history"
   ]
  },
  {
   "cell_type": "code",
   "execution_count": 15,
   "id": "a9732cd8",
   "metadata": {},
   "outputs": [],
   "source": [
    "train_predict = model.predict(X_train)\n",
    "test_predict = model.predict(X_test)"
   ]
  },
  {
   "cell_type": "code",
   "execution_count": 16,
   "id": "785f705b",
   "metadata": {},
   "outputs": [],
   "source": [
    "train_predict = scaler.inverse_transform(train_predict)\n",
    "test_predict = scaler.inverse_transform(test_predict)"
   ]
  },
  {
   "cell_type": "code",
   "execution_count": 17,
   "id": "95c3bd9d",
   "metadata": {},
   "outputs": [
    {
     "data": {
      "text/plain": [
       "207.54006796633993"
      ]
     },
     "execution_count": 17,
     "metadata": {},
     "output_type": "execute_result"
    }
   ],
   "source": [
    "math.sqrt(mean_squared_error(y_train, train_predict))\n",
    "math.sqrt(mean_squared_error(y_test,test_predict))"
   ]
  },
  {
   "cell_type": "code",
   "execution_count": 18,
   "id": "84c23091",
   "metadata": {},
   "outputs": [
    {
     "data": {
      "image/png": "[encoded data removed]",
      "text/plain": [
       "<Figure size 432x288 with 1 Axes>"
      ]
     },
     "metadata": {
      "needs_background": "light"
     },
     "output_type": "display_data"
    }
   ],
   "source": [
    "look_back = 100\n",
    "train_num_pyredict_plot = np.empty_like(data_close)\n",
    "train_num_pyredict_plot[:, :] = np.nan\n",
    "train_num_pyredict_plot[look_back : len(train_predict) + look_back, :] = train_predict\n",
    "test_predict_plot = np.empty_like(data_close)\n",
    "test_predict_plot[:, :] = np.nan\n",
    "test_predict_plot[len(train_predict) + (look_back * 2) + 1 : len(data_close) - 1, :] = test_predict\n",
    "plt.plot(scaler.inverse_transform(data_close))\n",
    "plt.plot(train_num_pyredict_plot)\n",
    "plt.plot(test_predict_plot)\n",
    "plt.show()\n"
   ]
  },
  {
   "cell_type": "code",
   "execution_count": 19,
   "id": "16b35fa6",
   "metadata": {},
   "outputs": [],
   "source": [
    "x_inum_pyut=test[307:].reshape(1, -1)\n",
    "x_inum_pyut.shape\n",
    "temp_inum_pyut = list(x_inum_pyut)\n",
    "temp_inum_pyut = temp_inum_pyut[0].tolist()\n",
    "temp_inum_pyut = list(x_inum_pyut)\n",
    "temp_inum_pyut = temp_inum_pyut[0].tolist()"
   ]
  },
  {
   "cell_type": "code",
   "execution_count": 20,
   "id": "0904e3ef",
   "metadata": {},
   "outputs": [
    {
     "data": {
      "text/plain": [
       "[<matplotlib.lines.Line2D at 0x1b3cee12f50>]"
      ]
     },
     "execution_count": 20,
     "metadata": {},
     "output_type": "execute_result"
    },
    {
     "data": {
      "image/png": "[encoded data removed]",
      "text/plain": [
       "<Figure size 432x288 with 1 Axes>"
      ]
     },
     "metadata": {
      "needs_background": "light"
     },
     "output_type": "display_data"
    }
   ],
   "source": [
    "day_new = np.arange(1, 101)\n",
    "day_pred = np.arange(101, 131)\n",
    "plt.plot(day_new, scaler.inverse_transform(data_close[1935 : ])) "
   ]
  }
 ],
 "metadata": {
  "kernelspec": {
   "display_name": "Python 3 (ipykernel)",
   "language": "python",
   "name": "python3"
  },
  "language_info": {
   "codemirror_mode": {
    "name": "ipython",
    "version": 3
   },
   "file_extension": ".py",
   "mimetype": "text/x-python",
   "name": "python",
   "nbconvert_exporter": "python",
   "pygments_lexer": "ipython3",
   "version": "3.10.2"
  }
 },
 "nbformat": 4,
 "nbformat_minor": 5
}
